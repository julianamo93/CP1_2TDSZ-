{
  "nbformat": 4,
  "nbformat_minor": 0,
  "metadata": {
    "colab": {
      "provenance": [],
      "authorship_tag": "ABX9TyMpWn4TPZJ9b5MBju0JIueA",
      "include_colab_link": true
    },
    "kernelspec": {
      "name": "python3",
      "display_name": "Python 3"
    },
    "language_info": {
      "name": "python"
    }
  },
  "cells": [
    {
      "cell_type": "markdown",
      "metadata": {
        "id": "view-in-github",
        "colab_type": "text"
      },
      "source": [
        "<a href=\"https://colab.research.google.com/github/julianamo93/CP1_2TDSZ-/blob/main/CP1_2TDSZ.ipynb\" target=\"_parent\"><img src=\"https://colab.research.google.com/assets/colab-badge.svg\" alt=\"Open In Colab\"/></a>"
      ]
    },
    {
      "cell_type": "markdown",
      "source": [
        "## **Disruptive Architectures IOT, IOB and Generative AI**\n",
        "- Juliana Moreira - RM: 554113\n",
        "- Kevin Nobre - RM: 552590"
      ],
      "metadata": {
        "id": "cXXeIRfvf4Ep"
      }
    },
    {
      "cell_type": "markdown",
      "source": [
        "### **CheckPoint 01 - 2TDSZ**\n",
        "\n",
        "*   Dataset - HouseHold_Power\n",
        "*   Descrição: Medição de consumo de energia elétrica em uma casa com taxa de amostragem de um minuto ao longo de um período de quase 04 anos. Diferentes grandezas elétricas e alguns valores de submedição estão\n",
        "disponíveis.\n",
        "*   Valores ausentes: Sim\n",
        "*   Tamanho do dataset: 133MB\n",
        "*   Objetivo: Regressão/Clustering"
      ],
      "metadata": {
        "id": "aYmLeJLzUIcB"
      }
    },
    {
      "cell_type": "markdown",
      "source": [
        "Importação de Bibliotecas para realização do CheckPoint 01. Bibliotecas padrão para análise e desenvolvimento de DL/ML."
      ],
      "metadata": {
        "id": "y12LqdUOUA0x"
      }
    },
    {
      "cell_type": "code",
      "execution_count": 1,
      "metadata": {
        "id": "RbV0VvG1SgJc"
      },
      "outputs": [],
      "source": [
        "import pandas as pd\n",
        "import numpy as np\n",
        "\n",
        "from matplotlib import pyplot as plt\n",
        "\n",
        "from sklearn.decomposition import PCA\n",
        "\n",
        "from sklearn.cluster import KMeans\n",
        "from sklearn.metrics import silhouette_score"
      ]
    },
    {
      "cell_type": "markdown",
      "source": [
        "## Importação do Dados\n",
        "\n",
        "Importando os dados do dataset HouseHold Power.\n"
      ],
      "metadata": {
        "id": "OzabvIynUdcq"
      }
    },
    {
      "cell_type": "code",
      "source": [
        "df = pd.read_csv('/content/household_power_consumption.txt', sep=';')\n",
        "df.head()"
      ],
      "metadata": {
        "colab": {
          "base_uri": "https://localhost:8080/",
          "height": 261
        },
        "id": "083-i8BKT4dV",
        "outputId": "b8a01403-5f03-4cb0-8077-789970583c8b"
      },
      "execution_count": 3,
      "outputs": [
        {
          "output_type": "stream",
          "name": "stderr",
          "text": [
            "<ipython-input-3-8b38190bc575>:1: DtypeWarning: Columns (2,3,4,5,6,7) have mixed types. Specify dtype option on import or set low_memory=False.\n",
            "  df = pd.read_csv('/content/household_power_consumption.txt', sep=';')\n"
          ]
        },
        {
          "output_type": "execute_result",
          "data": {
            "text/plain": [
              "         Date      Time Global_active_power Global_reactive_power  Voltage  \\\n",
              "0  16/12/2006  17:24:00               4.216                 0.418  234.840   \n",
              "1  16/12/2006  17:25:00               5.360                 0.436  233.630   \n",
              "2  16/12/2006  17:26:00               5.374                 0.498  233.290   \n",
              "3  16/12/2006  17:27:00               5.388                 0.502  233.740   \n",
              "4  16/12/2006  17:28:00               3.666                 0.528  235.680   \n",
              "\n",
              "  Global_intensity Sub_metering_1 Sub_metering_2  Sub_metering_3  \n",
              "0           18.400          0.000          1.000            17.0  \n",
              "1           23.000          0.000          1.000            16.0  \n",
              "2           23.000          0.000          2.000            17.0  \n",
              "3           23.000          0.000          1.000            17.0  \n",
              "4           15.800          0.000          1.000            17.0  "
            ],
            "text/html": [
              "\n",
              "  <div id=\"df-bad78a31-f517-47e7-84c0-c2bd63ef3e33\" class=\"colab-df-container\">\n",
              "    <div>\n",
              "<style scoped>\n",
              "    .dataframe tbody tr th:only-of-type {\n",
              "        vertical-align: middle;\n",
              "    }\n",
              "\n",
              "    .dataframe tbody tr th {\n",
              "        vertical-align: top;\n",
              "    }\n",
              "\n",
              "    .dataframe thead th {\n",
              "        text-align: right;\n",
              "    }\n",
              "</style>\n",
              "<table border=\"1\" class=\"dataframe\">\n",
              "  <thead>\n",
              "    <tr style=\"text-align: right;\">\n",
              "      <th></th>\n",
              "      <th>Date</th>\n",
              "      <th>Time</th>\n",
              "      <th>Global_active_power</th>\n",
              "      <th>Global_reactive_power</th>\n",
              "      <th>Voltage</th>\n",
              "      <th>Global_intensity</th>\n",
              "      <th>Sub_metering_1</th>\n",
              "      <th>Sub_metering_2</th>\n",
              "      <th>Sub_metering_3</th>\n",
              "    </tr>\n",
              "  </thead>\n",
              "  <tbody>\n",
              "    <tr>\n",
              "      <th>0</th>\n",
              "      <td>16/12/2006</td>\n",
              "      <td>17:24:00</td>\n",
              "      <td>4.216</td>\n",
              "      <td>0.418</td>\n",
              "      <td>234.840</td>\n",
              "      <td>18.400</td>\n",
              "      <td>0.000</td>\n",
              "      <td>1.000</td>\n",
              "      <td>17.0</td>\n",
              "    </tr>\n",
              "    <tr>\n",
              "      <th>1</th>\n",
              "      <td>16/12/2006</td>\n",
              "      <td>17:25:00</td>\n",
              "      <td>5.360</td>\n",
              "      <td>0.436</td>\n",
              "      <td>233.630</td>\n",
              "      <td>23.000</td>\n",
              "      <td>0.000</td>\n",
              "      <td>1.000</td>\n",
              "      <td>16.0</td>\n",
              "    </tr>\n",
              "    <tr>\n",
              "      <th>2</th>\n",
              "      <td>16/12/2006</td>\n",
              "      <td>17:26:00</td>\n",
              "      <td>5.374</td>\n",
              "      <td>0.498</td>\n",
              "      <td>233.290</td>\n",
              "      <td>23.000</td>\n",
              "      <td>0.000</td>\n",
              "      <td>2.000</td>\n",
              "      <td>17.0</td>\n",
              "    </tr>\n",
              "    <tr>\n",
              "      <th>3</th>\n",
              "      <td>16/12/2006</td>\n",
              "      <td>17:27:00</td>\n",
              "      <td>5.388</td>\n",
              "      <td>0.502</td>\n",
              "      <td>233.740</td>\n",
              "      <td>23.000</td>\n",
              "      <td>0.000</td>\n",
              "      <td>1.000</td>\n",
              "      <td>17.0</td>\n",
              "    </tr>\n",
              "    <tr>\n",
              "      <th>4</th>\n",
              "      <td>16/12/2006</td>\n",
              "      <td>17:28:00</td>\n",
              "      <td>3.666</td>\n",
              "      <td>0.528</td>\n",
              "      <td>235.680</td>\n",
              "      <td>15.800</td>\n",
              "      <td>0.000</td>\n",
              "      <td>1.000</td>\n",
              "      <td>17.0</td>\n",
              "    </tr>\n",
              "  </tbody>\n",
              "</table>\n",
              "</div>\n",
              "    <div class=\"colab-df-buttons\">\n",
              "\n",
              "  <div class=\"colab-df-container\">\n",
              "    <button class=\"colab-df-convert\" onclick=\"convertToInteractive('df-bad78a31-f517-47e7-84c0-c2bd63ef3e33')\"\n",
              "            title=\"Convert this dataframe to an interactive table.\"\n",
              "            style=\"display:none;\">\n",
              "\n",
              "  <svg xmlns=\"http://www.w3.org/2000/svg\" height=\"24px\" viewBox=\"0 -960 960 960\">\n",
              "    <path d=\"M120-120v-720h720v720H120Zm60-500h600v-160H180v160Zm220 220h160v-160H400v160Zm0 220h160v-160H400v160ZM180-400h160v-160H180v160Zm440 0h160v-160H620v160ZM180-180h160v-160H180v160Zm440 0h160v-160H620v160Z\"/>\n",
              "  </svg>\n",
              "    </button>\n",
              "\n",
              "  <style>\n",
              "    .colab-df-container {\n",
              "      display:flex;\n",
              "      gap: 12px;\n",
              "    }\n",
              "\n",
              "    .colab-df-convert {\n",
              "      background-color: #E8F0FE;\n",
              "      border: none;\n",
              "      border-radius: 50%;\n",
              "      cursor: pointer;\n",
              "      display: none;\n",
              "      fill: #1967D2;\n",
              "      height: 32px;\n",
              "      padding: 0 0 0 0;\n",
              "      width: 32px;\n",
              "    }\n",
              "\n",
              "    .colab-df-convert:hover {\n",
              "      background-color: #E2EBFA;\n",
              "      box-shadow: 0px 1px 2px rgba(60, 64, 67, 0.3), 0px 1px 3px 1px rgba(60, 64, 67, 0.15);\n",
              "      fill: #174EA6;\n",
              "    }\n",
              "\n",
              "    .colab-df-buttons div {\n",
              "      margin-bottom: 4px;\n",
              "    }\n",
              "\n",
              "    [theme=dark] .colab-df-convert {\n",
              "      background-color: #3B4455;\n",
              "      fill: #D2E3FC;\n",
              "    }\n",
              "\n",
              "    [theme=dark] .colab-df-convert:hover {\n",
              "      background-color: #434B5C;\n",
              "      box-shadow: 0px 1px 3px 1px rgba(0, 0, 0, 0.15);\n",
              "      filter: drop-shadow(0px 1px 2px rgba(0, 0, 0, 0.3));\n",
              "      fill: #FFFFFF;\n",
              "    }\n",
              "  </style>\n",
              "\n",
              "    <script>\n",
              "      const buttonEl =\n",
              "        document.querySelector('#df-bad78a31-f517-47e7-84c0-c2bd63ef3e33 button.colab-df-convert');\n",
              "      buttonEl.style.display =\n",
              "        google.colab.kernel.accessAllowed ? 'block' : 'none';\n",
              "\n",
              "      async function convertToInteractive(key) {\n",
              "        const element = document.querySelector('#df-bad78a31-f517-47e7-84c0-c2bd63ef3e33');\n",
              "        const dataTable =\n",
              "          await google.colab.kernel.invokeFunction('convertToInteractive',\n",
              "                                                    [key], {});\n",
              "        if (!dataTable) return;\n",
              "\n",
              "        const docLinkHtml = 'Like what you see? Visit the ' +\n",
              "          '<a target=\"_blank\" href=https://colab.research.google.com/notebooks/data_table.ipynb>data table notebook</a>'\n",
              "          + ' to learn more about interactive tables.';\n",
              "        element.innerHTML = '';\n",
              "        dataTable['output_type'] = 'display_data';\n",
              "        await google.colab.output.renderOutput(dataTable, element);\n",
              "        const docLink = document.createElement('div');\n",
              "        docLink.innerHTML = docLinkHtml;\n",
              "        element.appendChild(docLink);\n",
              "      }\n",
              "    </script>\n",
              "  </div>\n",
              "\n",
              "\n",
              "<div id=\"df-32bb3f78-8742-4d5d-8275-2a31bdb619b1\">\n",
              "  <button class=\"colab-df-quickchart\" onclick=\"quickchart('df-32bb3f78-8742-4d5d-8275-2a31bdb619b1')\"\n",
              "            title=\"Suggest charts\"\n",
              "            style=\"display:none;\">\n",
              "\n",
              "<svg xmlns=\"http://www.w3.org/2000/svg\" height=\"24px\"viewBox=\"0 0 24 24\"\n",
              "     width=\"24px\">\n",
              "    <g>\n",
              "        <path d=\"M19 3H5c-1.1 0-2 .9-2 2v14c0 1.1.9 2 2 2h14c1.1 0 2-.9 2-2V5c0-1.1-.9-2-2-2zM9 17H7v-7h2v7zm4 0h-2V7h2v10zm4 0h-2v-4h2v4z\"/>\n",
              "    </g>\n",
              "</svg>\n",
              "  </button>\n",
              "\n",
              "<style>\n",
              "  .colab-df-quickchart {\n",
              "      --bg-color: #E8F0FE;\n",
              "      --fill-color: #1967D2;\n",
              "      --hover-bg-color: #E2EBFA;\n",
              "      --hover-fill-color: #174EA6;\n",
              "      --disabled-fill-color: #AAA;\n",
              "      --disabled-bg-color: #DDD;\n",
              "  }\n",
              "\n",
              "  [theme=dark] .colab-df-quickchart {\n",
              "      --bg-color: #3B4455;\n",
              "      --fill-color: #D2E3FC;\n",
              "      --hover-bg-color: #434B5C;\n",
              "      --hover-fill-color: #FFFFFF;\n",
              "      --disabled-bg-color: #3B4455;\n",
              "      --disabled-fill-color: #666;\n",
              "  }\n",
              "\n",
              "  .colab-df-quickchart {\n",
              "    background-color: var(--bg-color);\n",
              "    border: none;\n",
              "    border-radius: 50%;\n",
              "    cursor: pointer;\n",
              "    display: none;\n",
              "    fill: var(--fill-color);\n",
              "    height: 32px;\n",
              "    padding: 0;\n",
              "    width: 32px;\n",
              "  }\n",
              "\n",
              "  .colab-df-quickchart:hover {\n",
              "    background-color: var(--hover-bg-color);\n",
              "    box-shadow: 0 1px 2px rgba(60, 64, 67, 0.3), 0 1px 3px 1px rgba(60, 64, 67, 0.15);\n",
              "    fill: var(--button-hover-fill-color);\n",
              "  }\n",
              "\n",
              "  .colab-df-quickchart-complete:disabled,\n",
              "  .colab-df-quickchart-complete:disabled:hover {\n",
              "    background-color: var(--disabled-bg-color);\n",
              "    fill: var(--disabled-fill-color);\n",
              "    box-shadow: none;\n",
              "  }\n",
              "\n",
              "  .colab-df-spinner {\n",
              "    border: 2px solid var(--fill-color);\n",
              "    border-color: transparent;\n",
              "    border-bottom-color: var(--fill-color);\n",
              "    animation:\n",
              "      spin 1s steps(1) infinite;\n",
              "  }\n",
              "\n",
              "  @keyframes spin {\n",
              "    0% {\n",
              "      border-color: transparent;\n",
              "      border-bottom-color: var(--fill-color);\n",
              "      border-left-color: var(--fill-color);\n",
              "    }\n",
              "    20% {\n",
              "      border-color: transparent;\n",
              "      border-left-color: var(--fill-color);\n",
              "      border-top-color: var(--fill-color);\n",
              "    }\n",
              "    30% {\n",
              "      border-color: transparent;\n",
              "      border-left-color: var(--fill-color);\n",
              "      border-top-color: var(--fill-color);\n",
              "      border-right-color: var(--fill-color);\n",
              "    }\n",
              "    40% {\n",
              "      border-color: transparent;\n",
              "      border-right-color: var(--fill-color);\n",
              "      border-top-color: var(--fill-color);\n",
              "    }\n",
              "    60% {\n",
              "      border-color: transparent;\n",
              "      border-right-color: var(--fill-color);\n",
              "    }\n",
              "    80% {\n",
              "      border-color: transparent;\n",
              "      border-right-color: var(--fill-color);\n",
              "      border-bottom-color: var(--fill-color);\n",
              "    }\n",
              "    90% {\n",
              "      border-color: transparent;\n",
              "      border-bottom-color: var(--fill-color);\n",
              "    }\n",
              "  }\n",
              "</style>\n",
              "\n",
              "  <script>\n",
              "    async function quickchart(key) {\n",
              "      const quickchartButtonEl =\n",
              "        document.querySelector('#' + key + ' button');\n",
              "      quickchartButtonEl.disabled = true;  // To prevent multiple clicks.\n",
              "      quickchartButtonEl.classList.add('colab-df-spinner');\n",
              "      try {\n",
              "        const charts = await google.colab.kernel.invokeFunction(\n",
              "            'suggestCharts', [key], {});\n",
              "      } catch (error) {\n",
              "        console.error('Error during call to suggestCharts:', error);\n",
              "      }\n",
              "      quickchartButtonEl.classList.remove('colab-df-spinner');\n",
              "      quickchartButtonEl.classList.add('colab-df-quickchart-complete');\n",
              "    }\n",
              "    (() => {\n",
              "      let quickchartButtonEl =\n",
              "        document.querySelector('#df-32bb3f78-8742-4d5d-8275-2a31bdb619b1 button');\n",
              "      quickchartButtonEl.style.display =\n",
              "        google.colab.kernel.accessAllowed ? 'block' : 'none';\n",
              "    })();\n",
              "  </script>\n",
              "</div>\n",
              "\n",
              "    </div>\n",
              "  </div>\n"
            ],
            "application/vnd.google.colaboratory.intrinsic+json": {
              "type": "dataframe",
              "variable_name": "df"
            }
          },
          "metadata": {},
          "execution_count": 3
        }
      ]
    },
    {
      "cell_type": "markdown",
      "source": [
        "## Análise Exploratória\n",
        "\n",
        "Iniciando a análise exploratória (EDA), com os dados do dataset."
      ],
      "metadata": {
        "id": "SmS63JgoVTW0"
      }
    },
    {
      "cell_type": "code",
      "source": [
        "df.shape"
      ],
      "metadata": {
        "colab": {
          "base_uri": "https://localhost:8080/"
        },
        "id": "96tU6inJWBU_",
        "outputId": "6e66b0e9-2ca5-48df-c303-6634b24bd27e"
      },
      "execution_count": 23,
      "outputs": [
        {
          "output_type": "execute_result",
          "data": {
            "text/plain": [
              "(2049280, 9)"
            ]
          },
          "metadata": {},
          "execution_count": 23
        }
      ]
    },
    {
      "cell_type": "code",
      "source": [
        "# df.describe() -- não utilizamos o describe() porque não temos dados numéricos,\n",
        "# então vamos transformar os dados em numéricos para poder usar o describe()"
      ],
      "metadata": {
        "id": "2XQ9bn0GVf-3"
      },
      "execution_count": 5,
      "outputs": []
    },
    {
      "cell_type": "code",
      "source": [
        "100 * (25979 / 2075259)"
      ],
      "metadata": {
        "colab": {
          "base_uri": "https://localhost:8080/"
        },
        "id": "ZVrwyPqJZn4F",
        "outputId": "2e14ac03-fd14-4462-9a84-4eaccaa76166"
      },
      "execution_count": 7,
      "outputs": [
        {
          "output_type": "execute_result",
          "data": {
            "text/plain": [
              "1.2518437457686005"
            ]
          },
          "metadata": {},
          "execution_count": 7
        }
      ]
    },
    {
      "cell_type": "markdown",
      "source": [
        "## Convertendo as Colunas para valores"
      ],
      "metadata": {
        "id": "VY_o5QqKZzMC"
      }
    },
    {
      "cell_type": "code",
      "source": [
        "# Converter as colunas 'object' para 'float64'\n",
        "df = df.apply(pd.to_numeric, errors='coerce')\n",
        "df = df.replace('?', np.nan)\n",
        "df = df.astype('float64')"
      ],
      "metadata": {
        "id": "FOXTiPBgYfA-"
      },
      "execution_count": 28,
      "outputs": []
    },
    {
      "cell_type": "code",
      "source": [
        "# salvando um novo dataframe eliminando as células vazias\n",
        "df1 =  df.drop(columns=['Date', 'Time'])"
      ],
      "metadata": {
        "id": "Q0-aAw8VeFPQ"
      },
      "execution_count": 29,
      "outputs": []
    },
    {
      "cell_type": "code",
      "source": [
        "# verificando se existem células vazias e somando os registros encontrados...\n",
        "# df1.isna().sum()"
      ],
      "metadata": {
        "id": "2HPGMZIzZNEp"
      },
      "execution_count": 24,
      "outputs": []
    },
    {
      "cell_type": "code",
      "source": [
        "df1.shape"
      ],
      "metadata": {
        "colab": {
          "base_uri": "https://localhost:8080/"
        },
        "id": "ZsbbXhZYeXNy",
        "outputId": "3c9cf7b4-2e56-4e05-f387-981a3fb583c1"
      },
      "execution_count": 30,
      "outputs": [
        {
          "output_type": "execute_result",
          "data": {
            "text/plain": [
              "(2049280, 7)"
            ]
          },
          "metadata": {},
          "execution_count": 30
        }
      ]
    },
    {
      "cell_type": "code",
      "source": [
        "# Verificando se existem células vazias e somando os registros encontrados\n",
        "df1.isna().sum()"
      ],
      "metadata": {
        "colab": {
          "base_uri": "https://localhost:8080/",
          "height": 303
        },
        "id": "bt-37iiCeNEt",
        "outputId": "0907c268-44d9-4211-f8a0-6695322d1ef3"
      },
      "execution_count": 31,
      "outputs": [
        {
          "output_type": "execute_result",
          "data": {
            "text/plain": [
              "Global_active_power      0\n",
              "Global_reactive_power    0\n",
              "Voltage                  0\n",
              "Global_intensity         0\n",
              "Sub_metering_1           0\n",
              "Sub_metering_2           0\n",
              "Sub_metering_3           0\n",
              "dtype: int64"
            ],
            "text/html": [
              "<div>\n",
              "<style scoped>\n",
              "    .dataframe tbody tr th:only-of-type {\n",
              "        vertical-align: middle;\n",
              "    }\n",
              "\n",
              "    .dataframe tbody tr th {\n",
              "        vertical-align: top;\n",
              "    }\n",
              "\n",
              "    .dataframe thead th {\n",
              "        text-align: right;\n",
              "    }\n",
              "</style>\n",
              "<table border=\"1\" class=\"dataframe\">\n",
              "  <thead>\n",
              "    <tr style=\"text-align: right;\">\n",
              "      <th></th>\n",
              "      <th>0</th>\n",
              "    </tr>\n",
              "  </thead>\n",
              "  <tbody>\n",
              "    <tr>\n",
              "      <th>Global_active_power</th>\n",
              "      <td>0</td>\n",
              "    </tr>\n",
              "    <tr>\n",
              "      <th>Global_reactive_power</th>\n",
              "      <td>0</td>\n",
              "    </tr>\n",
              "    <tr>\n",
              "      <th>Voltage</th>\n",
              "      <td>0</td>\n",
              "    </tr>\n",
              "    <tr>\n",
              "      <th>Global_intensity</th>\n",
              "      <td>0</td>\n",
              "    </tr>\n",
              "    <tr>\n",
              "      <th>Sub_metering_1</th>\n",
              "      <td>0</td>\n",
              "    </tr>\n",
              "    <tr>\n",
              "      <th>Sub_metering_2</th>\n",
              "      <td>0</td>\n",
              "    </tr>\n",
              "    <tr>\n",
              "      <th>Sub_metering_3</th>\n",
              "      <td>0</td>\n",
              "    </tr>\n",
              "  </tbody>\n",
              "</table>\n",
              "</div><br><label><b>dtype:</b> int64</label>"
            ]
          },
          "metadata": {},
          "execution_count": 31
        }
      ]
    },
    {
      "cell_type": "code",
      "source": [
        "print(df1.shape)  # Verificar o número de linhas e colunas\n",
        "print(df1.head())"
      ],
      "metadata": {
        "colab": {
          "base_uri": "https://localhost:8080/"
        },
        "id": "aTAayvPvcMfm",
        "outputId": "80e55b11-c1b2-4f23-ac6e-83da65d08630"
      },
      "execution_count": 32,
      "outputs": [
        {
          "output_type": "stream",
          "name": "stdout",
          "text": [
            "(2049280, 7)\n",
            "   Global_active_power  Global_reactive_power  Voltage  Global_intensity  \\\n",
            "0                4.216                  0.418   234.84              18.4   \n",
            "1                5.360                  0.436   233.63              23.0   \n",
            "2                5.374                  0.498   233.29              23.0   \n",
            "3                5.388                  0.502   233.74              23.0   \n",
            "4                3.666                  0.528   235.68              15.8   \n",
            "\n",
            "   Sub_metering_1  Sub_metering_2  Sub_metering_3  \n",
            "0             0.0             1.0            17.0  \n",
            "1             0.0             1.0            16.0  \n",
            "2             0.0             2.0            17.0  \n",
            "3             0.0             1.0            17.0  \n",
            "4             0.0             1.0            17.0  \n"
          ]
        }
      ]
    },
    {
      "cell_type": "markdown",
      "source": [
        "## Geração da Amostra de 5% dos Dados\n",
        "\n",
        "*   Utilizando sample, que preserva nossas colunas e pega apenas a porcentagem escolhida."
      ],
      "metadata": {
        "id": "VS55hyg3efze"
      }
    },
    {
      "cell_type": "code",
      "source": [
        "# df2 ---> amostra de 5%\n",
        "df2 = df1.sample(frac=0.05, random_state=10)"
      ],
      "metadata": {
        "id": "RYPCpB40Vwyg"
      },
      "execution_count": 33,
      "outputs": []
    },
    {
      "cell_type": "code",
      "source": [
        "df2.shape"
      ],
      "metadata": {
        "colab": {
          "base_uri": "https://localhost:8080/"
        },
        "id": "s5GXX5Oae2Rq",
        "outputId": "e9343550-dafb-4a70-956b-89d461d34643"
      },
      "execution_count": 34,
      "outputs": [
        {
          "output_type": "execute_result",
          "data": {
            "text/plain": [
              "(102464, 7)"
            ]
          },
          "metadata": {},
          "execution_count": 34
        }
      ]
    },
    {
      "cell_type": "markdown",
      "source": [
        "## Aplicação do Principal Component Analysis (PCA) ---> Redução de Dimensionalidade"
      ],
      "metadata": {
        "id": "E68Ttkg1fQFC"
      }
    },
    {
      "cell_type": "code",
      "source": [
        "print(df2.shape)  # Isso vai mostrar a forma do DataFrame\n",
        "print(df2.head())"
      ],
      "metadata": {
        "colab": {
          "base_uri": "https://localhost:8080/"
        },
        "id": "7kpGQYy9bC16",
        "outputId": "b8313e78-b4b4-4f2c-8b4c-1871f7397eb6"
      },
      "execution_count": 35,
      "outputs": [
        {
          "output_type": "stream",
          "name": "stdout",
          "text": [
            "(102464, 7)\n",
            "         Global_active_power  Global_reactive_power  Voltage  \\\n",
            "1766557                0.364                  0.118   242.06   \n",
            "750095                 1.238                  0.000   242.02   \n",
            "1110516                0.840                  0.206   241.48   \n",
            "775087                 0.486                  0.000   242.44   \n",
            "598955                 1.380                  0.000   244.51   \n",
            "\n",
            "         Global_intensity  Sub_metering_1  Sub_metering_2  Sub_metering_3  \n",
            "1766557               1.6             0.0             0.0             0.0  \n",
            "750095                5.0             0.0             0.0            19.0  \n",
            "1110516               3.6             0.0             1.0             0.0  \n",
            "775087                2.0             0.0             0.0             1.0  \n",
            "598955                5.6             0.0             0.0            18.0  \n"
          ]
        }
      ]
    },
    {
      "cell_type": "code",
      "source": [
        "# Número original de atributos = 7\n",
        "# Número de Componentes após a redução =\n",
        "n = 3\n",
        "pca = PCA(n_components=n)"
      ],
      "metadata": {
        "id": "AR3EBjDze80E"
      },
      "execution_count": 36,
      "outputs": []
    },
    {
      "cell_type": "code",
      "source": [
        "X_pca = pca.fit_transform(df2)\n",
        "X_pca.shape"
      ],
      "metadata": {
        "colab": {
          "base_uri": "https://localhost:8080/"
        },
        "id": "Y-kCK9sBhT0G",
        "outputId": "f606ff8a-3eee-4b38-a77a-ca91a8729422"
      },
      "execution_count": 37,
      "outputs": [
        {
          "output_type": "execute_result",
          "data": {
            "text/plain": [
              "(102464, 3)"
            ]
          },
          "metadata": {},
          "execution_count": 37
        }
      ]
    },
    {
      "cell_type": "code",
      "source": [
        "X_pca.shape"
      ],
      "metadata": {
        "colab": {
          "base_uri": "https://localhost:8080/"
        },
        "id": "rk4OQei3hXt_",
        "outputId": "b8a105b6-22fb-438f-f4f5-d8885709a315"
      },
      "execution_count": 38,
      "outputs": [
        {
          "output_type": "execute_result",
          "data": {
            "text/plain": [
              "(102464, 3)"
            ]
          },
          "metadata": {},
          "execution_count": 38
        }
      ]
    },
    {
      "cell_type": "code",
      "source": [
        "# O método \"explained_variance_ratio_\" ajuda a\n",
        "# porcentagem de variância dos dados que consegue ser explicada por cada um dos componentes selecionados\n",
        "pca.explained_variance_ratio_\n"
      ],
      "metadata": {
        "colab": {
          "base_uri": "https://localhost:8080/"
        },
        "id": "mrvDCrW6iU6w",
        "outputId": "42cff9e8-8935-4888-d7e2-a55fc2c32738"
      },
      "execution_count": 39,
      "outputs": [
        {
          "output_type": "execute_result",
          "data": {
            "text/plain": [
              "array([0.49372793, 0.23576995, 0.19283609])"
            ]
          },
          "metadata": {},
          "execution_count": 39
        }
      ]
    },
    {
      "cell_type": "code",
      "source": [
        "total_variancia = pca.explained_variance_ratio_.sum()\n",
        "print(f'O modelo PCA com {n} variáveis explica{100*(total_variancia): .2f} % dos dados de entrada.')"
      ],
      "metadata": {
        "colab": {
          "base_uri": "https://localhost:8080/"
        },
        "id": "zRaU4MmOiZhm",
        "outputId": "8fe0a8a5-4c24-4b4a-cb4b-8e68a58cb91d"
      },
      "execution_count": 40,
      "outputs": [
        {
          "output_type": "stream",
          "name": "stdout",
          "text": [
            "O modelo PCA com 3 variáveis explica 92.23 % dos dados de entrada.\n"
          ]
        }
      ]
    },
    {
      "cell_type": "markdown",
      "source": [
        "## **Agrupamento (Clustering) com K-Means**"
      ],
      "metadata": {
        "id": "-IUYHp_yeXgR"
      }
    },
    {
      "cell_type": "markdown",
      "source": [
        "*   Global_active_power e Global_reactive_power - escolhidos por medirem o consumo total e apotência reativa, que são características fundamentais para entender o padrão de consumo.\n",
        "*   Voltage - Para ajudar a identificar variações no consumo associadas a diferentes níveis de tensão.\n",
        "*   Global_intensity - relaciona-se diretamente à carga total, importante para o perfil de consumo.\n",
        "*   Sub_metering_1, Sb_metering_2 e Sub_metering_3 - representam o consumo em diferentes áreas, oferecendo uma visão detalhada do padrão de uso."
      ],
      "metadata": {
        "id": "b09lXvsNeuCs"
      }
    },
    {
      "cell_type": "code",
      "source": [
        "# Selecionar as colunas relevantes\n",
        "cols_to_use = ['Global_active_power', 'Global_reactive_power', 'Voltage', 'Global_intensity', 'Sub_metering_1', 'Sub_metering_2', 'Sub_metering_3']\n",
        "X = df2[cols_to_use]\n",
        "\n",
        "# Verificar os dados\n",
        "print(X.head())"
      ],
      "metadata": {
        "colab": {
          "base_uri": "https://localhost:8080/"
        },
        "id": "yjv5aOfXijtd",
        "outputId": "ff4cd384-7075-4303-8e28-e9dc9a62234a"
      },
      "execution_count": 41,
      "outputs": [
        {
          "output_type": "stream",
          "name": "stdout",
          "text": [
            "         Global_active_power  Global_reactive_power  Voltage  \\\n",
            "1766557                0.364                  0.118   242.06   \n",
            "750095                 1.238                  0.000   242.02   \n",
            "1110516                0.840                  0.206   241.48   \n",
            "775087                 0.486                  0.000   242.44   \n",
            "598955                 1.380                  0.000   244.51   \n",
            "\n",
            "         Global_intensity  Sub_metering_1  Sub_metering_2  Sub_metering_3  \n",
            "1766557               1.6             0.0             0.0             0.0  \n",
            "750095                5.0             0.0             0.0            19.0  \n",
            "1110516               3.6             0.0             1.0             0.0  \n",
            "775087                2.0             0.0             0.0             1.0  \n",
            "598955                5.6             0.0             0.0            18.0  \n"
          ]
        }
      ]
    },
    {
      "cell_type": "markdown",
      "source": [
        "## **Aplicando o Algoritmo K-Means**"
      ],
      "metadata": {
        "id": "6fqgjgd1ffc1"
      }
    },
    {
      "cell_type": "code",
      "source": [
        "from sklearn.cluster import KMeans\n",
        "from sklearn.metrics import silhouette_score\n",
        "import matplotlib.pyplot as plt\n",
        "\n",
        "# definindo a faixa de valores de K  serem testados\n",
        "k_values = range(1, 11) # teste de 1 a 10 clusters\n",
        "inertia= []\n",
        "silhouette_scores = []\n",
        "\n",
        "for k in k_values:\n",
        "    kmeans = KMeans(n_clusters=k, random_state=42, n_init='auto')\n",
        "    kmeans.fit(X)\n",
        "\n",
        "    # adicionando inercia para a curva do cotovelo\n",
        "    inertia.append(kmeans.inertia_)\n",
        "\n",
        "    # Calculando o silhouette score se houver pelo menos 2 clusters\n",
        "    if k > 1 and len(set(kmeans.labels_)) > 1:  # Verifica se há múltiplos clusters\n",
        "        silhouette_scores.append(silhouette_score(X, kmeans.labels_))\n",
        "    else:\n",
        "        silhouette_scores.append(None)\n",
        "\n",
        "# Plotando a Curva de Elbow\n",
        "plt.figure(figsize=(12, 6))\n",
        "plt.subplot(1, 2, 1)\n",
        "plt.plot(k_values, inertia, marker='o')\n",
        "plt.xlabel('Número de Clusters (K)')\n",
        "plt.ylabel('Inércia')\n",
        "plt.title('Curva de Elbow')\n",
        "\n",
        "# Plotando o Silhouette Score\n",
        "plt.subplot(1, 2, 2)\n",
        "plt.plot(k_values, silhouette_scores, marker='o')\n",
        "plt.xlabel('Número de Clusters (K)')\n",
        "plt.ylabel('Silhouette Score')\n",
        "plt.title('Silhouette Score')\n",
        "\n",
        "plt.tight_layout()\n",
        "plt.show()"
      ],
      "metadata": {
        "id": "TZtKHR54erHi"
      },
      "execution_count": null,
      "outputs": []
    },
    {
      "cell_type": "markdown",
      "source": [
        "Após observar a Curva de Elbow, encontramos um ponto onde a redução da Inertia começa a desacelerar, e é esse ponto que encontramos o melhor número de Clusters."
      ],
      "metadata": {
        "id": "1u57VOq6i9fk"
      }
    },
    {
      "cell_type": "markdown",
      "source": [
        "## **Visualizando os Clusters**\n",
        "\n",
        "*   Agora, vamos visualizar os clusters utilizando gráficos de dispersão."
      ],
      "metadata": {
        "id": "EhMG04bojPiO"
      }
    },
    {
      "cell_type": "code",
      "source": [
        "import seaborn as sns\n",
        "\n",
        "# Escolhendo o melhor número de Clusters\n",
        "k = 3\n",
        "kmeans = KMeans(n_clusters=k, random_state=10)\n",
        "clusters = kmeans.fit_predict(X)\n",
        "df2['Cluster'] = clusters\n",
        "\n",
        "# Plotando gráficos de dispersão\n",
        "plt.figure(figsize=(12, 6))\n",
        "sns.scatterplot(data=df2, x='Global_active_power', y='Global_reactive_power', hue='Cluster', palette='Set1')\n",
        "plt.title('Clusters com K-means')\n",
        "plt.xlabel('Global_active_power')\n",
        "plt.ylabel('Global_reactive_power')\n",
        "plt.legend()\n",
        "plt.show()"
      ],
      "metadata": {
        "id": "QcS-ztMbgwKM"
      },
      "execution_count": null,
      "outputs": []
    }
  ]
}